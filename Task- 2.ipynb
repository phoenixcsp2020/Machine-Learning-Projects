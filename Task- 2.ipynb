{
 "cells": [
  {
   "cell_type": "raw",
   "id": "7d6f7e75-8ebb-44f8-a40f-be0a57fcd5a6",
   "metadata": {},
   "source": [
    "Q1. Suppose a child psychologist claims that the average time working mothers spend talking to their children is at least 11 minutes per day. You conduct a random sample of 1000 working mothers and find they spend an average of 11.5 minutes per day talking with their children. Assume prior research suggests the population standard deviation is 2.3 minutes. Conduct a test with a level of significance of alpha = 0.05.\n"
   ]
  },
  {
   "cell_type": "markdown",
   "id": "457bad2d-c371-481c-a3e9-a7234faadcbb",
   "metadata": {},
   "source": [
    "# Hypothesis Testing"
   ]
  },
  {
   "cell_type": "code",
   "execution_count": 2,
   "id": "e395e42c-957b-4386-ad91-6ed71bdaef0d",
   "metadata": {},
   "outputs": [],
   "source": [
    "from scipy.stats import norm"
   ]
  },
  {
   "cell_type": "code",
   "execution_count": 3,
   "id": "5868cbab-86b3-4e56-a8fe-063178498f14",
   "metadata": {},
   "outputs": [],
   "source": [
    "# Data given\n",
    "sample_mean = 11.5\n",
    "population_mean = 11\n",
    "population_std_dev = 2.3\n",
    "sample_size = 1000\n",
    "alpha = 0.05\n"
   ]
  },
  {
   "cell_type": "code",
   "execution_count": 5,
   "id": "55d5e8f0-761e-47ed-a203-75424eb31086",
   "metadata": {},
   "outputs": [
    {
     "data": {
      "text/plain": [
       "6.874516652539955"
      ]
     },
     "execution_count": 5,
     "metadata": {},
     "output_type": "execute_result"
    }
   ],
   "source": [
    "# Calculate the z-test statistic\n",
    "\n",
    "z = (sample_mean - population_mean) / (population_std_dev / (sample_size ** 0.5))\n",
    "z"
   ]
  },
  {
   "cell_type": "code",
   "execution_count": 7,
   "id": "f112bec7-496b-462c-bb0a-4ac38b001469",
   "metadata": {},
   "outputs": [
    {
     "data": {
      "text/plain": [
       "3.110067758882451e-12"
      ]
     },
     "execution_count": 7,
     "metadata": {},
     "output_type": "execute_result"
    }
   ],
   "source": [
    "# Calculate the p-value for a one-tailed test\n",
    "p_value = 1 - norm.cdf(z)\n",
    "p_value"
   ]
  },
  {
   "cell_type": "code",
   "execution_count": 13,
   "id": "ae434500-91cd-4571-bf42-07dd22dd6592",
   "metadata": {},
   "outputs": [
    {
     "name": "stdout",
     "output_type": "stream",
     "text": [
      "Z-Statistic: 6.87\n",
      "P-Value: 0.0000\n",
      "Z-Statistic:  6.874516652539955\n",
      "P-Value:  3.110067758882451e-12\n"
     ]
    }
   ],
   "source": [
    "# Print results\n",
    "print(f\"Z-Statistic: {z:.2f}\")\n",
    "print(f\"P-Value: {p_value:.4f}\")\n",
    "print(\"Z-Statistic: \", z)\n",
    "print(\"P-Value: \", p_value)"
   ]
  },
  {
   "cell_type": "code",
   "execution_count": 16,
   "id": "bee860f2-5f26-4344-b488-6b9659aa2896",
   "metadata": {},
   "outputs": [
    {
     "name": "stdout",
     "output_type": "stream",
     "text": [
      "Reject the null hypothesis.\n"
     ]
    }
   ],
   "source": [
    "# Decision\n",
    "if p_value < alpha:\n",
    "    print(\"Reject the null hypothesis.\")\n",
    "else:\n",
    "    print(\"Fail to reject the null hypothesis.\")"
   ]
  },
  {
   "cell_type": "markdown",
   "id": "3168cc75-f155-48a8-b2c0-b62cce8d51cc",
   "metadata": {},
   "source": [
    "## Q2"
   ]
  },
  {
   "cell_type": "raw",
   "id": "190dd647-61bb-4c77-84c5-b439072e69cf",
   "metadata": {},
   "source": [
    "Q2. A coffee shop claims that their average wait time for customers is less than 5 minutes. To test this claim, a sample of 40 customers is taken, and their wait times are recorded. The sample mean wait time is found to be 4.6 minutes with a standard deviation of 0.8 minutes. Perform a hypothesis test at a significance level of 0.05 and determine whether there is enough evidence to support the coffee shop's claim."
   ]
  },
  {
   "cell_type": "code",
   "execution_count": null,
   "id": "f0451f7f-35c6-43e6-ab6d-b1ac2bfe6fa0",
   "metadata": {},
   "outputs": [],
   "source": []
  },
  {
   "cell_type": "code",
   "execution_count": 22,
   "id": "78abae47-2d2b-4aa5-8448-0150cdf27ec5",
   "metadata": {},
   "outputs": [],
   "source": [
    "# Given values\n",
    "sample_mean = 4.6\n",
    "hypothesized_mean = 5\n",
    "sample_std_dev = 0.8\n",
    "sample_size = 40\n",
    "alpha = 0.05"
   ]
  },
  {
   "cell_type": "code",
   "execution_count": 21,
   "id": "c77f41ee-fb76-4348-9545-e865a785091c",
   "metadata": {},
   "outputs": [
    {
     "name": "stdout",
     "output_type": "stream",
     "text": [
      "-3.162277660168382\n",
      "-1.684875121711225\n"
     ]
    }
   ],
   "source": [
    "from scipy.stats import t\n",
    "\n",
    "# Calculate the t-statistic\n",
    "t_statistic = (sample_mean - hypothesized_mean) / (sample_std_dev / (sample_size ** 0.5))\n",
    "\n",
    "# Degrees of freedom\n",
    "df = sample_size - 1\n",
    "\n",
    "# Critical value for a one-tailed test with alpha = 0.05\n",
    "critical_value = t.ppf(0.05, df)\n",
    "\n",
    "print(t_statistic)\n",
    "print(critical_value)"
   ]
  },
  {
   "cell_type": "raw",
   "id": "2fa7619a-595b-46f3-98e3-60aa1e924f6d",
   "metadata": {},
   "source": [
    "Conclusion:\n",
    "The t-score of −3.16 is less than −1.685. Therefore, we reject the null hypothesis.\n",
    "\n",
    "Interpretation:\n",
    "There is enough evidence to support the coffee shop's claim that the average wait time for customers is less than 5 minutes."
   ]
  }
 ],
 "metadata": {
  "kernelspec": {
   "display_name": "Python 3 (ipykernel)",
   "language": "python",
   "name": "python3"
  },
  "language_info": {
   "codemirror_mode": {
    "name": "ipython",
    "version": 3
   },
   "file_extension": ".py",
   "mimetype": "text/x-python",
   "name": "python",
   "nbconvert_exporter": "python",
   "pygments_lexer": "ipython3",
   "version": "3.12.1"
  },
  "widgets": {
   "application/vnd.jupyter.widget-state+json": {
    "state": {},
    "version_major": 2,
    "version_minor": 0
   }
  }
 },
 "nbformat": 4,
 "nbformat_minor": 5
}
